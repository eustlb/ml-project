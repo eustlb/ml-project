{
 "cells": [
  {
   "cell_type": "code",
   "execution_count": null,
   "id": "786aa04c",
   "metadata": {},
   "outputs": [],
   "source": [
    "# libraries\n",
    "import pandas as pd\n",
    "from IPython.display import display\n",
    "from sklearn.model_selection import train_test_split\n",
    "\n",
    "\n",
    "# import data and file na with mean\n",
    "def import_clean_data(data_path):\n",
    "    \"\"\"\n",
    "    :param data_path:\n",
    "    \"\"\"\n",
    "    data = pd.read_csv(data_path)\n",
    "    # count na values\n",
    "    # replace missing values by mean\n",
    "    new_data = data.fillna(data.mean())\n",
    "    return new_data\n",
    "\n",
    "\n",
    "# normalization and centralization\n",
    "def normalizer(data):\n",
    "    data_normalized = data.apply(lambda x: (x - x.mean()) / x.std(), axis=0)\n",
    "    return data_normalized\n",
    "\n",
    "\n",
    "# Separate features and target variables\n",
    "def features_target(data, label_column_name):\n",
    "    features_columns = [column_name for column_name in data.columns if column_name != label_column_name]\n",
    "    features, label = data[features_columns], data[[label_column_name]]\n",
    "    return features, label\n",
    "\n",
    "\n",
    "# Split data into train set and test set\n",
    "def split_data_train_test(data, dataset:str, label_column_name, test_size=0.3, random_state=42):\n",
    "    \"\"\"\n",
    "    :param data:\n",
    "    :param dataset: st\n",
    "    :param label_column_name:\n",
    "    :param test_size:\n",
    "    :param random_state:\n",
    "    :return:\n",
    "    \"\"\"\n",
    "    if dataset == 'prostate_cancer':\n",
    "        label_column_name = data[data.columns[-1]]\n",
    "        features_data, label = features_target(data, label_column_name)\n",
    "        X_train, X_test, y_train, y_test = train_test_split(features_data, label,\n",
    "                                                            random_state=random_state)\n",
    "    else:\n",
    "        features_data, label = features_target(data, label_column_name)\n",
    "        X_train, X_test, y_train, y_test = train_test_split(features_data, label, test_size=test_size,\n",
    "                                                            random_state=random_state)\n",
    "\n",
    "    return X_train, X_test, y_train, y_test\n",
    "\n",
    "\n"
   ]
  }
 ],
 "metadata": {
  "kernelspec": {
   "display_name": "Python 3 (ipykernel)",
   "language": "python",
   "name": "python3"
  },
  "language_info": {
   "codemirror_mode": {
    "name": "ipython",
    "version": 3
   },
   "file_extension": ".py",
   "mimetype": "text/x-python",
   "name": "python",
   "nbconvert_exporter": "python",
   "pygments_lexer": "ipython3",
   "version": "3.9.7"
  }
 },
 "nbformat": 4,
 "nbformat_minor": 5
}
